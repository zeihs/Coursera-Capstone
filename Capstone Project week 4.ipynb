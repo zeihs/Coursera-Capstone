{
    "nbformat_minor": 1, 
    "cells": [
        {
            "execution_count": 1, 
            "cell_type": "code", 
            "metadata": {}, 
            "outputs": [], 
            "source": "#The goal is to Start a sushi-restaurant in the city of Brussels\n#First we'll look for all current sushi-restaurants and decide on possible locations where there are not many sushi restaurants around\n    #For this step we'll use foursqaure to search for specific venue's\n    #The information will be processed into a dataframe and plotted onto a map\n\n#We'll then check for the rating of the restaurants near optimal locations\n    #For this step we'll use foursquare again to list the ratings of specific restaurant\n    #The restaurants will be grouped into clusters based on their rating\n\n#Finally a location can be chosen based on the final map"
        }, 
        {
            "execution_count": 2, 
            "cell_type": "code", 
            "metadata": {
                "scrolled": true
            }, 
            "outputs": [
                {
                    "output_type": "stream", 
                    "name": "stdout", 
                    "text": "Solving environment: done\n\n## Package Plan ##\n\n  environment location: /opt/conda/envs/Python36\n\n  added / updated specs: \n    - geopy\n\n\nThe following packages will be downloaded:\n\n    package                    |            build\n    ---------------------------|-----------------\n    openssl-1.1.1c             |       h516909a_0         2.1 MB  conda-forge\n    geographiclib-1.50         |             py_0          34 KB  conda-forge\n    ca-certificates-2019.9.11  |       hecc5488_0         144 KB  conda-forge\n    certifi-2019.9.11          |           py36_0         147 KB  conda-forge\n    geopy-1.20.0               |             py_0          57 KB  conda-forge\n    ------------------------------------------------------------\n                                           Total:         2.5 MB\n\nThe following NEW packages will be INSTALLED:\n\n    geographiclib:   1.50-py_0         conda-forge\n    geopy:           1.20.0-py_0       conda-forge\n\nThe following packages will be UPDATED:\n\n    ca-certificates: 2019.5.15-1                   --> 2019.9.11-hecc5488_0 conda-forge\n    certifi:         2019.6.16-py36_1              --> 2019.9.11-py36_0     conda-forge\n\nThe following packages will be DOWNGRADED:\n\n    openssl:         1.1.1d-h7b6447c_1             --> 1.1.1c-h516909a_0    conda-forge\n\n\nDownloading and Extracting Packages\nopenssl-1.1.1c       | 2.1 MB    | ##################################### | 100% \ngeographiclib-1.50   | 34 KB     | ##################################### | 100% \nca-certificates-2019 | 144 KB    | ##################################### | 100% \ncertifi-2019.9.11    | 147 KB    | ##################################### | 100% \ngeopy-1.20.0         | 57 KB     | ##################################### | 100% \nPreparing transaction: done\nVerifying transaction: done\nExecuting transaction: done\nSolving environment: done\n\n## Package Plan ##\n\n  environment location: /opt/conda/envs/Python36\n\n  added / updated specs: \n    - folium=0.5.0\n\n\nThe following packages will be downloaded:\n\n    package                    |            build\n    ---------------------------|-----------------\n    altair-3.2.0               |           py36_0         770 KB  conda-forge\n    vincent-0.4.4              |             py_1          28 KB  conda-forge\n    folium-0.5.0               |             py_0          45 KB  conda-forge\n    branca-0.3.1               |             py_0          25 KB  conda-forge\n    ------------------------------------------------------------\n                                           Total:         868 KB\n\nThe following NEW packages will be INSTALLED:\n\n    altair:  3.2.0-py36_0 conda-forge\n    branca:  0.3.1-py_0   conda-forge\n    folium:  0.5.0-py_0   conda-forge\n    vincent: 0.4.4-py_1   conda-forge\n\n\nDownloading and Extracting Packages\naltair-3.2.0         | 770 KB    | ##################################### | 100% \nvincent-0.4.4        | 28 KB     | ##################################### | 100% \nfolium-0.5.0         | 45 KB     | ##################################### | 100% \nbranca-0.3.1         | 25 KB     | ##################################### | 100% \nPreparing transaction: done\nVerifying transaction: done\nExecuting transaction: done\nFolium installed\nLibraries imported.\n"
                }
            ], 
            "source": "#Importing and installing necessary libraries\n\nimport requests # library to handle requests\nimport pandas as pd # library for data analsysis\nimport numpy as np # library to handle data in a vectorized manner\nimport random # library for random number generation\n\n!conda install -c conda-forge geopy --yes \nfrom geopy.geocoders import Nominatim # module to convert an address into latitude and longitude values\n\n# libraries for displaying images\nfrom IPython.display import Image \nfrom IPython.core.display import HTML \n    \n# tranforming json file into a pandas dataframe library\nfrom pandas.io.json import json_normalize\n\n!conda install -c conda-forge folium=0.5.0 --yes\nimport folium # plotting library\n\nprint('Folium installed')\nprint('Libraries imported.')"
        }, 
        {
            "execution_count": 3, 
            "cell_type": "code", 
            "metadata": {}, 
            "outputs": [
                {
                    "output_type": "stream", 
                    "name": "stdout", 
                    "text": "Your credentails:\nCLIENT_ID: IL2QNRRCV02PKZRV1WPPAEXVML4XABBERFDZOTCMY4FWRWAY\n"
                }
            ], 
            "source": "#Adding Foursquare information to variables:\nCLIENT_ID = 'IL2QNRRCV02PKZRV1WPPAEXVML4XABBERFDZOTCMY4FWRWAY' # your Foursquare ID\nCLIENT_SECRET = 'REMOVED' # your Foursquare Secret\nVERSION = '20190925'\nLIMIT = 100\nprint('Your credentails:')\nprint('CLIENT_ID: ' + CLIENT_ID)"
        }, 
        {
            "execution_count": 4, 
            "cell_type": "code", 
            "metadata": {}, 
            "outputs": [
                {
                    "output_type": "stream", 
                    "name": "stdout", 
                    "text": "50.81977585 4.39879936804723\n"
                }
            ], 
            "source": "#Getting latitude and longtitude of Brussels\naddress = 'City of Brussels, Belgium'\n\ngeolocator = Nominatim(user_agent=\"foursquare_agent\")\nlocation = geolocator.geocode(address)\nlatitude = location.latitude\nlongitude = location.longitude\nprint(latitude, longitude)"
        }, 
        {
            "execution_count": 6, 
            "cell_type": "code", 
            "metadata": {}, 
            "outputs": [
                {
                    "execution_count": 6, 
                    "metadata": {}, 
                    "data": {
                        "text/html": "<div>\n<style scoped>\n    .dataframe tbody tr th:only-of-type {\n        vertical-align: middle;\n    }\n\n    .dataframe tbody tr th {\n        vertical-align: top;\n    }\n\n    .dataframe thead th {\n        text-align: right;\n    }\n</style>\n<table border=\"1\" class=\"dataframe\">\n  <thead>\n    <tr style=\"text-align: right;\">\n      <th></th>\n      <th>categories</th>\n      <th>hasPerk</th>\n      <th>id</th>\n      <th>location.address</th>\n      <th>location.cc</th>\n      <th>location.city</th>\n      <th>location.country</th>\n      <th>location.crossStreet</th>\n      <th>location.distance</th>\n      <th>location.formattedAddress</th>\n      <th>location.labeledLatLngs</th>\n      <th>location.lat</th>\n      <th>location.lng</th>\n      <th>location.neighborhood</th>\n      <th>location.postalCode</th>\n      <th>location.state</th>\n      <th>name</th>\n      <th>referralId</th>\n    </tr>\n  </thead>\n  <tbody>\n    <tr>\n      <th>0</th>\n      <td>[{'id': '4bf58dd8d48988d118951735', 'name': 'G...</td>\n      <td>False</td>\n      <td>4fbf8ea6e4b0096e866e4cbb</td>\n      <td>Rue de Tervaetestraat 12</td>\n      <td>BE</td>\n      <td>Brussel</td>\n      <td>Belgi\u00eb</td>\n      <td>NaN</td>\n      <td>1337</td>\n      <td>[Rue de Tervaetestraat 12, 1040 Brussel, Belgi\u00eb]</td>\n      <td>[{'label': 'display', 'lat': 50.83177323376235...</td>\n      <td>50.831773</td>\n      <td>4.399853</td>\n      <td>NaN</td>\n      <td>1040</td>\n      <td>Brussels Hoofdstedelijk Gewest</td>\n      <td>Oma Sushi Foods</td>\n      <td>v-1569418556</td>\n    </tr>\n    <tr>\n      <th>1</th>\n      <td>[{'id': '4bf58dd8d48988d1d2941735', 'name': 'S...</td>\n      <td>False</td>\n      <td>50e87fbee4b0aa6efde89da4</td>\n      <td>Kroonlaan 431/2 Avenue de la Couronne</td>\n      <td>BE</td>\n      <td>Elsene</td>\n      <td>Belgi\u00eb</td>\n      <td>NaN</td>\n      <td>595</td>\n      <td>[Kroonlaan 431/2 Avenue de la Couronne, 1050 E...</td>\n      <td>[{'label': 'display', 'lat': 50.81661993550632...</td>\n      <td>50.816620</td>\n      <td>4.391963</td>\n      <td>NaN</td>\n      <td>1050</td>\n      <td>Brussels Hoofdstedelijk Gewest</td>\n      <td>Sushi House</td>\n      <td>v-1569418556</td>\n    </tr>\n    <tr>\n      <th>2</th>\n      <td>[{'id': '4bf58dd8d48988d1d2941735', 'name': 'S...</td>\n      <td>False</td>\n      <td>5c1a4a789cadd9002b394876</td>\n      <td>Rue Defacqz 85</td>\n      <td>BE</td>\n      <td>Brussel</td>\n      <td>Belgi\u00eb</td>\n      <td>NaN</td>\n      <td>3027</td>\n      <td>[Rue Defacqz 85, 1060 Brussel, Belgi\u00eb]</td>\n      <td>[{'label': 'display', 'lat': 50.826938, 'lng':...</td>\n      <td>50.826938</td>\n      <td>4.357260</td>\n      <td>Chatelain</td>\n      <td>1060</td>\n      <td>Brussels Hoofdstedelijk Gewest</td>\n      <td>Sushi Ruko</td>\n      <td>v-1569418556</td>\n    </tr>\n    <tr>\n      <th>3</th>\n      <td>[{'id': '4bf58dd8d48988d1d2941735', 'name': 'S...</td>\n      <td>False</td>\n      <td>5592913c498efb6e6f278f62</td>\n      <td>Avenue Orban 244</td>\n      <td>BE</td>\n      <td>,Woluw\u00e9-Saint-Pierre</td>\n      <td>Belgi\u00eb</td>\n      <td>NaN</td>\n      <td>5109</td>\n      <td>[Avenue Orban 244, 1150 ,Woluw\u00e9-Saint-Pierre, ...</td>\n      <td>[{'label': 'display', 'lat': 50.83937975776315...</td>\n      <td>50.839380</td>\n      <td>4.464500</td>\n      <td>NaN</td>\n      <td>1150</td>\n      <td>NaN</td>\n      <td>Sushi Shop Stockel</td>\n      <td>v-1569418556</td>\n    </tr>\n    <tr>\n      <th>4</th>\n      <td>[{'id': '4bf58dd8d48988d1d2941735', 'name': 'S...</td>\n      <td>False</td>\n      <td>579f9897cd102f2ed97ee6c5</td>\n      <td>Avenue Orban 235</td>\n      <td>BE</td>\n      <td>Sint-Pieters-Woluwe</td>\n      <td>Belgi\u00eb</td>\n      <td>NaN</td>\n      <td>5112</td>\n      <td>[Avenue Orban 235, 1150 Sint-Pieters-Woluwe, B...</td>\n      <td>[{'label': 'display', 'lat': 50.839304516978, ...</td>\n      <td>50.839305</td>\n      <td>4.464604</td>\n      <td>NaN</td>\n      <td>1150</td>\n      <td>Brussels Hoofdstedelijk Gewest</td>\n      <td>Tenshi Sushi</td>\n      <td>v-1569418556</td>\n    </tr>\n  </tbody>\n</table>\n</div>", 
                        "text/plain": "                                          categories  hasPerk  \\\n0  [{'id': '4bf58dd8d48988d118951735', 'name': 'G...    False   \n1  [{'id': '4bf58dd8d48988d1d2941735', 'name': 'S...    False   \n2  [{'id': '4bf58dd8d48988d1d2941735', 'name': 'S...    False   \n3  [{'id': '4bf58dd8d48988d1d2941735', 'name': 'S...    False   \n4  [{'id': '4bf58dd8d48988d1d2941735', 'name': 'S...    False   \n\n                         id                       location.address  \\\n0  4fbf8ea6e4b0096e866e4cbb               Rue de Tervaetestraat 12   \n1  50e87fbee4b0aa6efde89da4  Kroonlaan 431/2 Avenue de la Couronne   \n2  5c1a4a789cadd9002b394876                         Rue Defacqz 85   \n3  5592913c498efb6e6f278f62                       Avenue Orban 244   \n4  579f9897cd102f2ed97ee6c5                       Avenue Orban 235   \n\n  location.cc         location.city location.country location.crossStreet  \\\n0          BE               Brussel           Belgi\u00eb                  NaN   \n1          BE                Elsene           Belgi\u00eb                  NaN   \n2          BE               Brussel           Belgi\u00eb                  NaN   \n3          BE  ,Woluw\u00e9-Saint-Pierre           Belgi\u00eb                  NaN   \n4          BE   Sint-Pieters-Woluwe           Belgi\u00eb                  NaN   \n\n   location.distance                          location.formattedAddress  \\\n0               1337   [Rue de Tervaetestraat 12, 1040 Brussel, Belgi\u00eb]   \n1                595  [Kroonlaan 431/2 Avenue de la Couronne, 1050 E...   \n2               3027             [Rue Defacqz 85, 1060 Brussel, Belgi\u00eb]   \n3               5109  [Avenue Orban 244, 1150 ,Woluw\u00e9-Saint-Pierre, ...   \n4               5112  [Avenue Orban 235, 1150 Sint-Pieters-Woluwe, B...   \n\n                             location.labeledLatLngs  location.lat  \\\n0  [{'label': 'display', 'lat': 50.83177323376235...     50.831773   \n1  [{'label': 'display', 'lat': 50.81661993550632...     50.816620   \n2  [{'label': 'display', 'lat': 50.826938, 'lng':...     50.826938   \n3  [{'label': 'display', 'lat': 50.83937975776315...     50.839380   \n4  [{'label': 'display', 'lat': 50.839304516978, ...     50.839305   \n\n   location.lng location.neighborhood location.postalCode  \\\n0      4.399853                   NaN                1040   \n1      4.391963                   NaN                1050   \n2      4.357260             Chatelain                1060   \n3      4.464500                   NaN                1150   \n4      4.464604                   NaN                1150   \n\n                   location.state                name    referralId  \n0  Brussels Hoofdstedelijk Gewest     Oma Sushi Foods  v-1569418556  \n1  Brussels Hoofdstedelijk Gewest         Sushi House  v-1569418556  \n2  Brussels Hoofdstedelijk Gewest          Sushi Ruko  v-1569418556  \n3                             NaN  Sushi Shop Stockel  v-1569418556  \n4  Brussels Hoofdstedelijk Gewest        Tenshi Sushi  v-1569418556  "
                    }, 
                    "output_type": "execute_result"
                }
            ], 
            "source": "search_query = 'sushi'\nradius = 5700\nurl = 'https://api.foursquare.com/v2/venues/search?client_id={}&client_secret={}&ll={},{}&v={}&query={}&radius={}&limit={}'.format(CLIENT_ID, CLIENT_SECRET, latitude, longitude, VERSION, search_query, radius, LIMIT)\nresults = requests.get(url).json()\n\n# assign relevant part of JSON to venues\nvenues = results['response']['venues']\n\n# tranform venues into a dataframe\nBrussel_data = json_normalize(venues)\nBrussel_data.head()"
        }, 
        {
            "execution_count": 8, 
            "cell_type": "code", 
            "metadata": {}, 
            "outputs": [
                {
                    "execution_count": 8, 
                    "metadata": {}, 
                    "data": {
                        "text/plain": "(30, 18)"
                    }, 
                    "output_type": "execute_result"
                }
            ], 
            "source": "Brussel_data.shape"
        }, 
        {
            "execution_count": 11, 
            "cell_type": "code", 
            "metadata": {}, 
            "outputs": [], 
            "source": "#removing possible NaN entries\nBrussel_data.dropna(subset = ['location.city'], inplace = True)"
        }, 
        {
            "execution_count": 12, 
            "cell_type": "code", 
            "metadata": {}, 
            "outputs": [
                {
                    "execution_count": 12, 
                    "metadata": {}, 
                    "data": {
                        "text/html": "<div>\n<style scoped>\n    .dataframe tbody tr th:only-of-type {\n        vertical-align: middle;\n    }\n\n    .dataframe tbody tr th {\n        vertical-align: top;\n    }\n\n    .dataframe thead th {\n        text-align: right;\n    }\n</style>\n<table border=\"1\" class=\"dataframe\">\n  <thead>\n    <tr style=\"text-align: right;\">\n      <th></th>\n      <th>categories</th>\n      <th>hasPerk</th>\n      <th>id</th>\n      <th>location.address</th>\n      <th>location.cc</th>\n      <th>location.city</th>\n      <th>location.country</th>\n      <th>location.crossStreet</th>\n      <th>location.distance</th>\n      <th>location.formattedAddress</th>\n      <th>location.labeledLatLngs</th>\n      <th>location.lat</th>\n      <th>location.lng</th>\n      <th>location.neighborhood</th>\n      <th>location.postalCode</th>\n      <th>location.state</th>\n      <th>name</th>\n      <th>referralId</th>\n    </tr>\n  </thead>\n  <tbody>\n    <tr>\n      <th>0</th>\n      <td>[{'id': '4bf58dd8d48988d118951735', 'name': 'G...</td>\n      <td>False</td>\n      <td>4fbf8ea6e4b0096e866e4cbb</td>\n      <td>Rue de Tervaetestraat 12</td>\n      <td>BE</td>\n      <td>Brussel</td>\n      <td>Belgi\u00eb</td>\n      <td>NaN</td>\n      <td>1337</td>\n      <td>[Rue de Tervaetestraat 12, 1040 Brussel, Belgi\u00eb]</td>\n      <td>[{'label': 'display', 'lat': 50.83177323376235...</td>\n      <td>50.831773</td>\n      <td>4.399853</td>\n      <td>NaN</td>\n      <td>1040</td>\n      <td>Brussels Hoofdstedelijk Gewest</td>\n      <td>Oma Sushi Foods</td>\n      <td>v-1569418556</td>\n    </tr>\n    <tr>\n      <th>1</th>\n      <td>[{'id': '4bf58dd8d48988d1d2941735', 'name': 'S...</td>\n      <td>False</td>\n      <td>5c1a4a789cadd9002b394876</td>\n      <td>Rue Defacqz 85</td>\n      <td>BE</td>\n      <td>Brussel</td>\n      <td>Belgi\u00eb</td>\n      <td>NaN</td>\n      <td>3027</td>\n      <td>[Rue Defacqz 85, 1060 Brussel, Belgi\u00eb]</td>\n      <td>[{'label': 'display', 'lat': 50.826938, 'lng':...</td>\n      <td>50.826938</td>\n      <td>4.357260</td>\n      <td>Chatelain</td>\n      <td>1060</td>\n      <td>Brussels Hoofdstedelijk Gewest</td>\n      <td>Sushi Ruko</td>\n      <td>v-1569418556</td>\n    </tr>\n    <tr>\n      <th>2</th>\n      <td>[{'id': '4bf58dd8d48988d1d2941735', 'name': 'S...</td>\n      <td>False</td>\n      <td>59ae7adf86bc49021b92145e</td>\n      <td>Avenue Fonsny 47</td>\n      <td>BE</td>\n      <td>Brussel</td>\n      <td>Belgi\u00eb</td>\n      <td>NaN</td>\n      <td>4645</td>\n      <td>[Avenue Fonsny 47, 1060 Brussel, Belgi\u00eb]</td>\n      <td>[{'label': 'display', 'lat': 50.836434, 'lng':...</td>\n      <td>50.836434</td>\n      <td>4.338221</td>\n      <td>Hallepoort</td>\n      <td>1060</td>\n      <td>Brussels Hoofdstedelijk Gewest</td>\n      <td>Sushi Gourmet</td>\n      <td>v-1569418556</td>\n    </tr>\n    <tr>\n      <th>3</th>\n      <td>[{'id': '4bf58dd8d48988d1d2941735', 'name': 'S...</td>\n      <td>False</td>\n      <td>4b3bd484f964a5200d7c25e3</td>\n      <td>Louizalaan 144 Avenue Louise</td>\n      <td>BE</td>\n      <td>Brussel</td>\n      <td>Belgi\u00eb</td>\n      <td>NaN</td>\n      <td>2808</td>\n      <td>[Louizalaan 144 Avenue Louise, 1050 Brussel, B...</td>\n      <td>[{'label': 'display', 'lat': 50.82929312624903...</td>\n      <td>50.829293</td>\n      <td>4.361817</td>\n      <td>NaN</td>\n      <td>1050</td>\n      <td>Brussels Hoofdstedelijk Gewest</td>\n      <td>Sushi Shop</td>\n      <td>v-1569418556</td>\n    </tr>\n    <tr>\n      <th>4</th>\n      <td>[{'id': '4bf58dd8d48988d1d2941735', 'name': 'S...</td>\n      <td>False</td>\n      <td>525542db11d2d0218e33aaa0</td>\n      <td>Galerie Ravenstein 29</td>\n      <td>BE</td>\n      <td>Brussel</td>\n      <td>Belgi\u00eb</td>\n      <td>NaN</td>\n      <td>3880</td>\n      <td>[Galerie Ravenstein 29, 1000 Brussel, Belgi\u00eb]</td>\n      <td>[{'label': 'display', 'lat': 50.84324570388764...</td>\n      <td>50.843246</td>\n      <td>4.357986</td>\n      <td>NaN</td>\n      <td>1000</td>\n      <td>Brussels Hoofdstedelijk Gewest</td>\n      <td>Kaiten Sushi Bar</td>\n      <td>v-1569418556</td>\n    </tr>\n  </tbody>\n</table>\n</div>", 
                        "text/plain": "                                          categories  hasPerk  \\\n0  [{'id': '4bf58dd8d48988d118951735', 'name': 'G...    False   \n1  [{'id': '4bf58dd8d48988d1d2941735', 'name': 'S...    False   \n2  [{'id': '4bf58dd8d48988d1d2941735', 'name': 'S...    False   \n3  [{'id': '4bf58dd8d48988d1d2941735', 'name': 'S...    False   \n4  [{'id': '4bf58dd8d48988d1d2941735', 'name': 'S...    False   \n\n                         id              location.address location.cc  \\\n0  4fbf8ea6e4b0096e866e4cbb      Rue de Tervaetestraat 12          BE   \n1  5c1a4a789cadd9002b394876                Rue Defacqz 85          BE   \n2  59ae7adf86bc49021b92145e              Avenue Fonsny 47          BE   \n3  4b3bd484f964a5200d7c25e3  Louizalaan 144 Avenue Louise          BE   \n4  525542db11d2d0218e33aaa0         Galerie Ravenstein 29          BE   \n\n  location.city location.country location.crossStreet  location.distance  \\\n0       Brussel           Belgi\u00eb                  NaN               1337   \n1       Brussel           Belgi\u00eb                  NaN               3027   \n2       Brussel           Belgi\u00eb                  NaN               4645   \n3       Brussel           Belgi\u00eb                  NaN               2808   \n4       Brussel           Belgi\u00eb                  NaN               3880   \n\n                           location.formattedAddress  \\\n0   [Rue de Tervaetestraat 12, 1040 Brussel, Belgi\u00eb]   \n1             [Rue Defacqz 85, 1060 Brussel, Belgi\u00eb]   \n2           [Avenue Fonsny 47, 1060 Brussel, Belgi\u00eb]   \n3  [Louizalaan 144 Avenue Louise, 1050 Brussel, B...   \n4      [Galerie Ravenstein 29, 1000 Brussel, Belgi\u00eb]   \n\n                             location.labeledLatLngs  location.lat  \\\n0  [{'label': 'display', 'lat': 50.83177323376235...     50.831773   \n1  [{'label': 'display', 'lat': 50.826938, 'lng':...     50.826938   \n2  [{'label': 'display', 'lat': 50.836434, 'lng':...     50.836434   \n3  [{'label': 'display', 'lat': 50.82929312624903...     50.829293   \n4  [{'label': 'display', 'lat': 50.84324570388764...     50.843246   \n\n   location.lng location.neighborhood location.postalCode  \\\n0      4.399853                   NaN                1040   \n1      4.357260             Chatelain                1060   \n2      4.338221            Hallepoort                1060   \n3      4.361817                   NaN                1050   \n4      4.357986                   NaN                1000   \n\n                   location.state              name    referralId  \n0  Brussels Hoofdstedelijk Gewest   Oma Sushi Foods  v-1569418556  \n1  Brussels Hoofdstedelijk Gewest        Sushi Ruko  v-1569418556  \n2  Brussels Hoofdstedelijk Gewest     Sushi Gourmet  v-1569418556  \n3  Brussels Hoofdstedelijk Gewest        Sushi Shop  v-1569418556  \n4  Brussels Hoofdstedelijk Gewest  Kaiten Sushi Bar  v-1569418556  "
                    }, 
                    "output_type": "execute_result"
                }
            ], 
            "source": "#Getting only sushi restaurants located in Brussel by removing outsiders\n    #Final dataset before visualisation\nBrussel_data = Brussel_data[Brussel_data['location.city'].str.contains('Brussel')].reset_index(drop=True)\nBrussel_data.head()"
        }, 
        {
            "execution_count": 14, 
            "cell_type": "code", 
            "metadata": {}, 
            "outputs": [
                {
                    "execution_count": 14, 
                    "metadata": {}, 
                    "data": {
                        "text/plain": "(16, 18)"
                    }, 
                    "output_type": "execute_result"
                }
            ], 
            "source": "#Final dataset dimensions\nBrussel_data.shape"
        }, 
        {
            "execution_count": null, 
            "cell_type": "code", 
            "metadata": {}, 
            "outputs": [], 
            "source": ""
        }
    ], 
    "metadata": {
        "kernelspec": {
            "display_name": "Python 3.6", 
            "name": "python3", 
            "language": "python"
        }, 
        "language_info": {
            "mimetype": "text/x-python", 
            "nbconvert_exporter": "python", 
            "version": "3.6.8", 
            "name": "python", 
            "file_extension": ".py", 
            "pygments_lexer": "ipython3", 
            "codemirror_mode": {
                "version": 3, 
                "name": "ipython"
            }
        }
    }, 
    "nbformat": 4
}